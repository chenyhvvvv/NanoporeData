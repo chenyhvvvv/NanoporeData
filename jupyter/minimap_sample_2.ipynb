{
 "cells": [
  {
   "cell_type": "code",
   "execution_count": 1,
   "metadata": {
    "collapsed": true
   },
   "outputs": [],
   "source": [
    "import mappy as mp\n",
    "import os\n",
    "import re\n",
    "import numpy as np\n",
    "os.chdir('/import/home2/yhchenmath/Code/NanoporeData/')"
   ]
  },
  {
   "cell_type": "code",
   "execution_count": 2,
   "outputs": [],
   "source": [
    "ref = mp.Aligner('/import/home2/yhchenmath/Code/NanoporeData/configs/reference_T.fasta')"
   ],
   "metadata": {
    "collapsed": false
   }
  },
  {
   "cell_type": "code",
   "execution_count": 53,
   "outputs": [],
   "source": [
    "from tqdm import tqdm\n",
    "def get_mapping_info(sequence_path):\n",
    "    count_d = {\n",
    "        \"UnaG-120A\": 0,\n",
    "        \"EGFP-40A\": 0,\n",
    "        \"CLuc-53AGGCCCCU\": 0\n",
    "    }\n",
    "    total = 0\n",
    "    bar = tqdm(mp.fastx_read(sequence_path))\n",
    "    for name, seq, qual in bar:\n",
    "        total += 1\n",
    "        for hit in ref.map(seq):\n",
    "            # print(\"{}\\t{}\\t{}\\t{}\".format(hit.ctg, hit.r_st, hit.r_en, hit.mapq))\n",
    "            if hit.mapq >= 60:\n",
    "                count_d[hit.ctg] += 1\n",
    "            break\n",
    "    print(f\"Total reads: {total} \\nTotal mapping: {sum(count_d.values())} \\nMapping rate: {sum(count_d.values())/total} \\nPercent of UnaG-120A: {count_d['UnaG-120A']/sum(count_d.values())} \\nPercent of EGFP-40A: {count_d['EGFP-40A']/sum(count_d.values())} \\nPercent of CLuc-53AGGCCCCU: {count_d['CLuc-53AGGCCCCU']/sum(count_d.values())}\")\n",
    "    return count_d"
   ],
   "metadata": {
    "collapsed": false
   }
  },
  {
   "cell_type": "code",
   "execution_count": 54,
   "outputs": [
    {
     "name": "stderr",
     "output_type": "stream",
     "text": [
      "85766it [00:05, 16244.49it/s]"
     ]
    },
    {
     "name": "stdout",
     "output_type": "stream",
     "text": [
      "Total reads: 85766 \n",
      "Total mapping: 3781 \n",
      "Mapping rate: 0.04408506867523261 \n",
      "Percent of UnaG-120A: 0.17587939698492464 \n",
      "Percent of EGFP-40A: 0.7193864057127743 \n",
      "Percent of CLuc-53AGGCCCCU: 0.10473419730230098\n"
     ]
    },
    {
     "name": "stderr",
     "output_type": "stream",
     "text": [
      "\n"
     ]
    },
    {
     "data": {
      "text/plain": "{'UnaG-120A': 665, 'EGFP-40A': 2720, 'CLuc-53AGGCCCCU': 396}"
     },
     "execution_count": 54,
     "metadata": {},
     "output_type": "execute_result"
    }
   ],
   "source": [
    "# My Basecalling result\n",
    "get_mapping_info(\"/import/home2/yhchenmath/guppy/guppy_out_becki_1/Analysis/reads.fasta\")"
   ],
   "metadata": {
    "collapsed": false
   }
  },
  {
   "cell_type": "code",
   "execution_count": 55,
   "outputs": [
    {
     "name": "stderr",
     "output_type": "stream",
     "text": [
      "828374it [04:42, 2930.57it/s]"
     ]
    },
    {
     "name": "stdout",
     "output_type": "stream",
     "text": [
      "Total reads: 828374 \n",
      "Total mapping: 480147 \n",
      "Mapping rate: 0.5796258694744162 \n",
      "Percent of UnaG-120A: 0.18399781733510778 \n",
      "Percent of EGFP-40A: 0.7787615042893113 \n",
      "Percent of CLuc-53AGGCCCCU: 0.03724067837558081\n"
     ]
    },
    {
     "name": "stderr",
     "output_type": "stream",
     "text": [
      "\n"
     ]
    },
    {
     "data": {
      "text/plain": "{'UnaG-120A': 88346, 'EGFP-40A': 373920, 'CLuc-53AGGCCCCU': 17881}"
     },
     "execution_count": 55,
     "metadata": {},
     "output_type": "execute_result"
    }
   ],
   "source": [
    "# My Basecalling result\n",
    "get_mapping_info(\"/import/home2/yhchenmath/guppy/guppy_out_becki_2/Analysis/reads.fasta\")"
   ],
   "metadata": {
    "collapsed": false
   }
  },
  {
   "cell_type": "code",
   "execution_count": 56,
   "outputs": [
    {
     "name": "stderr",
     "output_type": "stream",
     "text": [
      "464116it [01:47, 4314.29it/s]"
     ]
    },
    {
     "name": "stdout",
     "output_type": "stream",
     "text": [
      "Total reads: 464116 \n",
      "Total mapping: 143420 \n",
      "Mapping rate: 0.3090175731929087 \n",
      "Percent of UnaG-120A: 0.15244038488355877 \n",
      "Percent of EGFP-40A: 0.7759238599916329 \n",
      "Percent of CLuc-53AGGCCCCU: 0.07163575512480826\n"
     ]
    },
    {
     "name": "stderr",
     "output_type": "stream",
     "text": [
      "\n"
     ]
    },
    {
     "data": {
      "text/plain": "{'UnaG-120A': 21863, 'EGFP-40A': 111283, 'CLuc-53AGGCCCCU': 10274}"
     },
     "execution_count": 56,
     "metadata": {},
     "output_type": "execute_result"
    }
   ],
   "source": [
    "# My Basecalling result\n",
    "get_mapping_info(\"/import/home2/yhchenmath/guppy/guppy_out_1mM/Analysis/reads.fasta\")"
   ],
   "metadata": {
    "collapsed": false
   }
  },
  {
   "cell_type": "code",
   "execution_count": 58,
   "outputs": [
    {
     "name": "stderr",
     "output_type": "stream",
     "text": [
      "272652it [01:01, 4444.81it/s]"
     ]
    },
    {
     "name": "stdout",
     "output_type": "stream",
     "text": [
      "Total reads: 272652 \n",
      "Total mapping: 71287 \n",
      "Mapping rate: 0.2614578290274783 \n",
      "Percent of UnaG-120A: 0.17418323116416737 \n",
      "Percent of EGFP-40A: 0.7610924853058763 \n",
      "Percent of CLuc-53AGGCCCCU: 0.06472428352995638\n"
     ]
    },
    {
     "name": "stderr",
     "output_type": "stream",
     "text": [
      "\n"
     ]
    },
    {
     "data": {
      "text/plain": "{'UnaG-120A': 12417, 'EGFP-40A': 54256, 'CLuc-53AGGCCCCU': 4614}"
     },
     "execution_count": 58,
     "metadata": {},
     "output_type": "execute_result"
    }
   ],
   "source": [
    "# My Basecalling result\n",
    "get_mapping_info(\"/import/home2/yhchenmath/guppy/guppy_out_2mM/Analysis/reads.fasta\")"
   ],
   "metadata": {
    "collapsed": false
   }
  },
  {
   "cell_type": "code",
   "execution_count": 46,
   "outputs": [
    {
     "name": "stderr",
     "output_type": "stream",
     "text": [
      "86065it [00:02, 30806.32it/s]"
     ]
    },
    {
     "name": "stdout",
     "output_type": "stream",
     "text": [
      "Total reads: 86065 \n",
      "Total mapping: 3177 \n",
      "Mapping rate: 0.03691396037878348 \n",
      "Percent of UnaG-120A: 0.03871576959395656 \n",
      "Percent of EGFP-40A: 0.8397859615989928 \n",
      "Percent of CLuc-53AGGCCCCU: 0.12149826880705068\n"
     ]
    },
    {
     "name": "stderr",
     "output_type": "stream",
     "text": [
      "\n"
     ]
    },
    {
     "data": {
      "text/plain": "{'UnaG-120A': 123, 'EGFP-40A': 2668, 'CLuc-53AGGCCCCU': 386}"
     },
     "execution_count": 46,
     "metadata": {},
     "output_type": "execute_result"
    }
   ],
   "source": [
    "# Raw Basecalling result of becki_1\n",
    "get_mapping_info(\"/import/home2/yhchenmath/Dataset/ONT/LifeScienceData/20230306_BECKI_1/Analysis/reads.fasta\")"
   ],
   "metadata": {
    "collapsed": false
   }
  },
  {
   "cell_type": "code",
   "execution_count": 47,
   "outputs": [
    {
     "name": "stderr",
     "output_type": "stream",
     "text": [
      "523047it [02:23, 3640.17it/s]"
     ]
    },
    {
     "name": "stdout",
     "output_type": "stream",
     "text": [
      "Total reads: 523047 \n",
      "Total mapping: 286674 \n",
      "Mapping rate: 0.5480845889566329 \n",
      "Percent of UnaG-120A: 0.5257574806225888 \n",
      "Percent of EGFP-40A: 0.42978086607086796 \n",
      "Percent of CLuc-53AGGCCCCU: 0.04446165330654332\n"
     ]
    },
    {
     "name": "stderr",
     "output_type": "stream",
     "text": [
      "\n"
     ]
    },
    {
     "data": {
      "text/plain": "{'UnaG-120A': 150721, 'EGFP-40A': 123207, 'CLuc-53AGGCCCCU': 12746}"
     },
     "execution_count": 47,
     "metadata": {},
     "output_type": "execute_result"
    }
   ],
   "source": [
    "# Raw Basecalling result of 1_mM\n",
    "get_mapping_info(\"/import/home2/yhchenmath/Dataset/ONT/LifeScienceData/1_mM/Analysis/reads.fasta\")"
   ],
   "metadata": {
    "collapsed": false
   }
  },
  {
   "cell_type": "code",
   "execution_count": 41,
   "outputs": [
    {
     "name": "stderr",
     "output_type": "stream",
     "text": [
      "464116it [01:47, 4329.58it/s]"
     ]
    },
    {
     "name": "stdout",
     "output_type": "stream",
     "text": [
      "Total reads: 464116 \n",
      "Total mapping: 143420 \n",
      "Mapping rate: 0.3090175731929087 \n",
      "Percent of UnaG-120A: 0.15244038488355877 \n",
      "Percent of EGFP-40A: 0.7759238599916329 \n",
      "Percent of CLuc-53AGGCCCCU: 0.07163575512480826\n"
     ]
    },
    {
     "name": "stderr",
     "output_type": "stream",
     "text": [
      "\n"
     ]
    },
    {
     "data": {
      "text/plain": "{'UnaG-120A': 21863, 'EGFP-40A': 111283, 'CLuc-53AGGCCCCU': 10274}"
     },
     "execution_count": 41,
     "metadata": {},
     "output_type": "execute_result"
    }
   ],
   "source": [
    "# My Basecalling result of 1_mM\n",
    "get_mapping_info(\"/import/home2/yhchenmath/guppy/guppy_out_1mM/Analysis/reads.fasta\")"
   ],
   "metadata": {
    "collapsed": false
   }
  },
  {
   "cell_type": "code",
   "execution_count": 49,
   "outputs": [
    {
     "name": "stderr",
     "output_type": "stream",
     "text": [
      "298358it [01:16, 3913.93it/s]"
     ]
    },
    {
     "name": "stdout",
     "output_type": "stream",
     "text": [
      "Total reads: 298358 \n",
      "Total mapping: 134794 \n",
      "Mapping rate: 0.45178610930492896 \n",
      "Percent of UnaG-120A: 0.5162544326898824 \n",
      "Percent of EGFP-40A: 0.4421042479635592 \n",
      "Percent of CLuc-53AGGCCCCU: 0.04164131934655845\n"
     ]
    },
    {
     "name": "stderr",
     "output_type": "stream",
     "text": [
      "\n"
     ]
    },
    {
     "data": {
      "text/plain": "{'UnaG-120A': 69588, 'EGFP-40A': 59593, 'CLuc-53AGGCCCCU': 5613}"
     },
     "execution_count": 49,
     "metadata": {},
     "output_type": "execute_result"
    }
   ],
   "source": [
    "# Raw Basecalling result of 2_mM\n",
    "get_mapping_info(\"/import/home2/yhchenmath/Dataset/ONT/LifeScienceData/2_mM/Analysis/reads_T.fasta\")"
   ],
   "metadata": {
    "collapsed": false
   }
  },
  {
   "cell_type": "code",
   "execution_count": 37,
   "outputs": [
    {
     "name": "stderr",
     "output_type": "stream",
     "text": [
      "828646it [02:43, 5071.23it/s]"
     ]
    },
    {
     "name": "stdout",
     "output_type": "stream",
     "text": [
      "Total reads: 828646 \n",
      "Total mapping: 389767 \n",
      "Mapping rate: 0.4703661153254828 \n",
      "Percent of UnaG-120A: 0.019917027352238645 \n",
      "Percent of EGFP-40A: 0.9350765970438749 \n",
      "Percent of CLuc-53AGGCCCCU: 0.04500637560388642\n"
     ]
    },
    {
     "name": "stderr",
     "output_type": "stream",
     "text": [
      "\n"
     ]
    },
    {
     "data": {
      "text/plain": "{'UnaG-120A': 7763, 'EGFP-40A': 364462, 'CLuc-53AGGCCCCU': 17542}"
     },
     "execution_count": 37,
     "metadata": {},
     "output_type": "execute_result"
    }
   ],
   "source": [
    "# Raw Basecalling result of beck_2\n",
    "get_mapping_info(\"/import/home2/yhchenmath/Dataset/ONT/LifeScienceData/20230306_BECKI_2/Analysis/reads.fasta\")"
   ],
   "metadata": {
    "collapsed": false
   }
  },
  {
   "cell_type": "code",
   "execution_count": 26,
   "outputs": [
    {
     "name": "stderr",
     "output_type": "stream",
     "text": [
      "98673it [00:34, 2886.72it/s]\n"
     ]
    },
    {
     "ename": "KeyboardInterrupt",
     "evalue": "",
     "output_type": "error",
     "traceback": [
      "\u001B[0;31m---------------------------------------------------------------------------\u001B[0m",
      "\u001B[0;31mKeyboardInterrupt\u001B[0m                         Traceback (most recent call last)",
      "Cell \u001B[0;32mIn[26], line 11\u001B[0m\n\u001B[1;32m      9\u001B[0m bar \u001B[38;5;241m=\u001B[39m tqdm(mp\u001B[38;5;241m.\u001B[39mfastx_read(sequence_path))\n\u001B[1;32m     10\u001B[0m \u001B[38;5;28;01mfor\u001B[39;00m name, seq, qual \u001B[38;5;129;01min\u001B[39;00m bar:\n\u001B[0;32m---> 11\u001B[0m     \u001B[38;5;28;01mfor\u001B[39;00m hit \u001B[38;5;129;01min\u001B[39;00m ref\u001B[38;5;241m.\u001B[39mmap(seq):\n\u001B[1;32m     12\u001B[0m         \u001B[38;5;66;03m# print(\"{}\\t{}\\t{}\\t{}\".format(hit.ctg, hit.r_st, hit.r_en, hit.mapq))\u001B[39;00m\n\u001B[1;32m     13\u001B[0m         \u001B[38;5;28;01mif\u001B[39;00m hit\u001B[38;5;241m.\u001B[39mmapq \u001B[38;5;241m>\u001B[39m\u001B[38;5;241m=\u001B[39m \u001B[38;5;241m60\u001B[39m:\n\u001B[1;32m     14\u001B[0m             count_d[hit\u001B[38;5;241m.\u001B[39mctg] \u001B[38;5;241m+\u001B[39m\u001B[38;5;241m=\u001B[39m \u001B[38;5;241m1\u001B[39m\n",
      "\u001B[0;31mKeyboardInterrupt\u001B[0m: "
     ]
    }
   ],
   "source": [
    "sequence_path = \"/import/home2/yhchenmath/guppy/guppy_out/Analysis/reads.fasta\"\n",
    "from tqdm import tqdm\n",
    "i = 0\n",
    "count_d = {\n",
    "    \"UnaG-120A\": 0,\n",
    "    \"EGFP-40A\": 0,\n",
    "    \"CLuc-53AGGCCCCU\": 0\n",
    "}\n",
    "bar = tqdm(mp.fastx_read(sequence_path))\n",
    "for name, seq, qual in bar:\n",
    "    for hit in ref.map(seq):\n",
    "        # print(\"{}\\t{}\\t{}\\t{}\".format(hit.ctg, hit.r_st, hit.r_en, hit.mapq))\n",
    "        if hit.mapq >= 60:\n",
    "            count_d[hit.ctg] += 1\n",
    "        break"
   ],
   "metadata": {
    "collapsed": false
   }
  },
  {
   "cell_type": "code",
   "execution_count": 27,
   "outputs": [
    {
     "data": {
      "text/plain": "{'UnaG-120A': 10720, 'EGFP-40A': 44442, 'CLuc-53AGGCCCCU': 2083}"
     },
     "execution_count": 27,
     "metadata": {},
     "output_type": "execute_result"
    }
   ],
   "source": [
    "count_d"
   ],
   "metadata": {
    "collapsed": false
   }
  },
  {
   "cell_type": "code",
   "execution_count": 22,
   "outputs": [
    {
     "name": "stderr",
     "output_type": "stream",
     "text": [
      "85766it [00:05, 16729.73it/s]\n"
     ]
    }
   ],
   "source": [
    "sequence_path = \"/import/home2/yhchenmath/guppy/guppy_out_2/reads.fasta\"\n",
    "from tqdm import tqdm\n",
    "i = 0\n",
    "count_d = {\n",
    "    \"UnaG-120A\": 0,\n",
    "    \"EGFP-40A\": 0,\n",
    "    \"CLuc-53AGGCCCCU\": 0\n",
    "}\n",
    "bar = tqdm(mp.fastx_read(sequence_path))\n",
    "for name, seq, qual in bar:\n",
    "    for hit in ref.map(seq):\n",
    "        # print(\"{}\\t{}\\t{}\\t{}\".format(hit.ctg, hit.r_st, hit.r_en, hit.mapq))\n",
    "        if hit.mapq >= 60:\n",
    "            count_d[hit.ctg] += 1\n",
    "        break"
   ],
   "metadata": {
    "collapsed": false
   }
  },
  {
   "cell_type": "code",
   "execution_count": 23,
   "outputs": [
    {
     "data": {
      "text/plain": "{'UnaG-120A': 665, 'EGFP-40A': 2720, 'CLuc-53AGGCCCCU': 396}"
     },
     "execution_count": 23,
     "metadata": {},
     "output_type": "execute_result"
    }
   ],
   "source": [
    "count_d"
   ],
   "metadata": {
    "collapsed": false
   }
  },
  {
   "cell_type": "code",
   "execution_count": 10,
   "outputs": [
    {
     "name": "stderr",
     "output_type": "stream",
     "text": [
      "828646it [02:42, 5086.23it/s]\n"
     ]
    }
   ],
   "source": [
    "sequence_path = \"/import/home2/yhchenmath/Dataset/ONT/LifeScienceData/20230306_BECKI_2/Analysis/reads_T.fasta\"\n",
    "from tqdm import tqdm\n",
    "i = 0\n",
    "count_d = {\n",
    "    \"UnaG-120A\": 0,\n",
    "    \"EGFP-40A\": 0,\n",
    "    \"CLuc-53AGGCCCCU\": 0\n",
    "}\n",
    "bar = tqdm(mp.fastx_read(sequence_path))\n",
    "for name, seq, qual in bar:\n",
    "    for hit in ref.map(seq):\n",
    "        # print(\"{}\\t{}\\t{}\\t{}\".format(hit.ctg, hit.r_st, hit.r_en, hit.mapq))\n",
    "        if hit.mapq >= 60:\n",
    "            count_d[hit.ctg] += 1\n",
    "        break"
   ],
   "metadata": {
    "collapsed": false
   }
  },
  {
   "cell_type": "code",
   "execution_count": 11,
   "outputs": [
    {
     "data": {
      "text/plain": "{'UnaG-120A': 7763, 'EGFP-40A': 364462, 'CLuc-53AGGCCCCU': 17542}"
     },
     "execution_count": 11,
     "metadata": {},
     "output_type": "execute_result"
    }
   ],
   "source": [
    "count_d"
   ],
   "metadata": {
    "collapsed": false
   }
  },
  {
   "cell_type": "code",
   "execution_count": 77,
   "outputs": [
    {
     "name": "stderr",
     "output_type": "stream",
     "text": [
      "828374it [04:42, 2935.11it/s]\n"
     ]
    }
   ],
   "source": [
    "sequence_path = \"/import/home2/yhchenmath/guppy/guppy_out/reads_T.fasta\"\n",
    "from tqdm import tqdm\n",
    "i = 0\n",
    "count_d = {\n",
    "    \"UnaG-120A\": 0,\n",
    "    \"EGFP-40A\": 0,\n",
    "    \"CLuc-53AGGCCCCU\": 0\n",
    "}\n",
    "bar = tqdm(mp.fastx_read(sequence_path))\n",
    "for name, seq, qual in bar:\n",
    "    for hit in ref.map(seq):\n",
    "        # print(\"{}\\t{}\\t{}\\t{}\".format(hit.ctg, hit.r_st, hit.r_en, hit.mapq))\n",
    "        if hit.mapq >= 60:\n",
    "            count_d[hit.ctg] += 1\n",
    "        break"
   ],
   "metadata": {
    "collapsed": false
   }
  },
  {
   "cell_type": "code",
   "execution_count": 78,
   "outputs": [
    {
     "data": {
      "text/plain": "{'UnaG-120A': 88346, 'EGFP-40A': 373920, 'CLuc-53AGGCCCCU': 17881}"
     },
     "execution_count": 78,
     "metadata": {},
     "output_type": "execute_result"
    }
   ],
   "source": [
    "count_d"
   ],
   "metadata": {
    "collapsed": false
   }
  },
  {
   "cell_type": "code",
   "execution_count": 126,
   "outputs": [
    {
     "data": {
      "text/plain": "0.5796258694744162"
     },
     "execution_count": 126,
     "metadata": {},
     "output_type": "execute_result"
    }
   ],
   "source": [
    "480147 / 828374"
   ],
   "metadata": {
    "collapsed": false
   }
  },
  {
   "cell_type": "code",
   "execution_count": 80,
   "outputs": [
    {
     "name": "stdout",
     "output_type": "stream",
     "text": [
      "UnaG-120A 0.18399781733510778\n",
      "EGFP-40A 0.7787615042893113\n",
      "CLuc-53AGGCCCCU 0.03724067837558081\n"
     ]
    }
   ],
   "source": [
    "# Calculate the proportion of the items in the dictionary and print it\n",
    "total = sum(count_d.values())\n",
    "for key in count_d:\n",
    "    print(key,count_d[key] / total)"
   ],
   "metadata": {
    "collapsed": false
   }
  },
  {
   "cell_type": "code",
   "execution_count": 84,
   "outputs": [
    {
     "name": "stderr",
     "output_type": "stream",
     "text": [
      "85766it [00:05, 16432.97it/s]\n"
     ]
    }
   ],
   "source": [
    "sequence_path = \"/import/home2/yhchenmath/guppy/guppy_out_2/reads_T.fasta\"\n",
    "from tqdm import tqdm\n",
    "i = 0\n",
    "count_d = {\n",
    "    \"UnaG-120A\": 0,\n",
    "    \"EGFP-40A\": 0,\n",
    "    \"CLuc-53AGGCCCCU\": 0\n",
    "}\n",
    "record_d = {\n",
    "    \"UnaG-120A\": [],\n",
    "    \"EGFP-40A\": [],\n",
    "    \"CLuc-53AGGCCCCU\": []\n",
    "}\n",
    "bar = tqdm(mp.fastx_read(sequence_path))\n",
    "c = 0\n",
    "for name, seq, qual in bar:\n",
    "    for hit in ref.map(seq):\n",
    "        # print(\"{}\\t{}\\t{}\\t{}\".format(hit.ctg, hit.r_st, hit.r_en, hit.mapq))\n",
    "        if hit.mapq >= 60:\n",
    "            count_d[hit.ctg] += 1\n",
    "            record_d[hit.ctg].append(name)\n",
    "        break"
   ],
   "metadata": {
    "collapsed": false
   }
  },
  {
   "cell_type": "code",
   "execution_count": 85,
   "outputs": [
    {
     "data": {
      "text/plain": "{'UnaG-120A': 665, 'EGFP-40A': 2720, 'CLuc-53AGGCCCCU': 396}"
     },
     "execution_count": 85,
     "metadata": {},
     "output_type": "execute_result"
    }
   ],
   "source": [
    "count_d"
   ],
   "metadata": {
    "collapsed": false
   }
  },
  {
   "cell_type": "code",
   "execution_count": 127,
   "outputs": [
    {
     "data": {
      "text/plain": "0.04408506867523261"
     },
     "execution_count": 127,
     "metadata": {},
     "output_type": "execute_result"
    }
   ],
   "source": [
    "(665 + 2720 + 396)/857"
   ],
   "metadata": {
    "collapsed": false
   }
  },
  {
   "cell_type": "code",
   "execution_count": 89,
   "outputs": [
    {
     "data": {
      "text/plain": "['3d2049e6-1d16-4b12-88ee-f3fbbb866410',\n '29f4e433-9a61-416e-9142-227d23a1852a',\n '0393b6ad-ab1a-414c-ad32-dcb4505d4221',\n '03da0970-3f84-460e-afbe-dc67e908b3f5',\n 'e660351d-46f9-4522-a240-e18533ac8721',\n 'e09899a8-a4f8-4894-ad69-8a749a1b517d',\n 'd0600082-714c-42f1-aa46-71181b2191c9',\n 'c402a133-5ae3-4a16-b9fb-65ae01b083ef',\n '10db4474-fa4c-4a15-bda6-b9058e89b3c7',\n '117bd746-dd2e-4b9e-90ff-1ecbae1a200f',\n 'f335f7a3-d541-4ff6-a613-a3d4ee0911eb',\n '386cb81b-bf90-46ed-94cb-60cd680a85af',\n '2dfe7384-337d-4919-b3f5-05222b5e84f9',\n 'e693c013-e4e7-41e8-bbb1-dbc374f80816',\n '6ce248ce-11f0-4c62-b143-f7b6bae06cb2',\n '6bead9b4-8aaa-496b-b2d1-d318029e2e4e',\n 'c52fb6fd-2a8b-4778-bc21-c23ca8dd8d19',\n '12032bee-3f12-433b-9aa6-9247f043e73a',\n '5064a78b-9e79-406e-95a8-2b781e29c801',\n '69cea055-452c-4f22-b0ac-ece7e465da9a',\n 'cd277a99-9150-428d-abae-08542cdad65f',\n 'd6919f7d-b8d5-4f41-b51b-aaaaf72c25e4',\n '1dbbba93-e609-4344-8d9c-ad735e8a0a9f',\n '30aee871-5e40-4ef3-ad60-4bfdbf908eb4',\n 'df166816-c142-42c8-ae58-d652fdd952bf',\n 'da13ddff-213d-43d4-928c-eda5eaf7892b',\n '2582fd75-343a-4617-a0ef-0cc0894803c7',\n 'cbe5565f-4912-4fc1-b18d-6ee4b98c681c',\n '3618f312-938d-48a8-94a0-51799f73c459',\n '17ee4d6a-52db-4a76-ac94-cf9be8644d46',\n 'd09238ee-b523-431c-89ba-0f4b9ad7fc4e',\n '69fe3d77-c5b1-416b-afc4-2a5d702de546',\n 'eeaaa365-9746-4111-ab94-22ac1fbd769b',\n '14fd58d9-3dcd-49df-b58d-4a0d964a806c',\n '572f0780-d932-4e74-b8db-277d5662e754',\n '303cc991-a543-4abc-9122-2f5b26c49e9a',\n '2d95d189-ba8d-4a4e-817e-34335a025ad6',\n '8369fc0b-840e-4a7a-bfe6-a5bb45003d84',\n 'a5b0c3e3-1fe9-4da5-bff4-762f930a6d1f',\n 'ce416c60-49e0-4f9f-9a87-4a9d0ed9fdb4',\n 'a5143587-9b0e-4164-a65a-a2f4a23bf0a5',\n '2af737e6-2330-4fe9-a3a9-4395f85a9eae',\n '903d9c41-5cf8-452d-a580-443811601ad2',\n '1f7d02e0-8a30-457c-8f23-d2157bd4f5f2',\n '9845e0e2-f8f1-4395-9459-528249a26aac',\n 'ebe211eb-57c8-4036-aabc-41c4763f8652',\n '2f883e48-9ed7-44c6-9bea-a133675738c6',\n '3f545761-0daa-4971-be0e-4f1f32ea1200',\n '055ad9b2-8831-4c10-8639-03dc43f944fa',\n 'fe9d2742-6f82-41ba-9977-6b57a4ff088b',\n '88956d60-12ad-4310-b99b-01be15242be6',\n 'eefcfea9-f349-4ad8-8355-c1deb19d8e58',\n 'f5126739-a5c0-497d-903a-1c00ff75aa83',\n 'e7a3477f-6ee8-4fb2-85ce-a8f91b73dcca',\n '0bebead9-348e-453b-925d-2529532a3e8b',\n 'a3c9a821-2487-454b-93d7-78204d1cb5df',\n '6b91bd8a-adbd-4983-a4b7-61fd9fad2267',\n 'd57eefa1-05f8-4ee0-b978-06c33e06da37',\n '41f2dec0-0401-4210-a4a9-a8fa4bdaa2da',\n '4d2e3b8e-6929-4c0c-96f8-96f59581d982',\n 'cdca268a-f4f7-4df1-98a3-c9f2106a15b5',\n 'd5e7bb0b-83cd-40fc-91bf-c25a2b2f5346',\n 'c5dba520-190d-4dd6-b27f-541d8befd719',\n 'f72ec835-b28a-4d21-8ba3-33f322508bbf',\n 'e47feb8f-3dc3-4778-a200-16af0d0fd6ea',\n '8c2dea74-85f5-4797-b070-573b68487c2b',\n '40678927-c7e6-49a6-958f-d489e13edf79',\n '622a033d-546e-4d86-92b8-89c440c14ad4',\n '1faae2c9-4d6f-411d-aadd-59a1f6357d7e',\n '9fd7dc9e-aa43-4adc-b0e3-ef118dce7761',\n 'd48a603c-9c76-4388-b37b-d5208f7a05a6',\n 'c026916c-ed7f-405a-be5c-3060c455e39d',\n '3c5f5ba9-9319-4bfd-b9ae-13c5295d15e5',\n '92e7d194-318f-49c4-9836-ceb06bb26cd7',\n 'a76e8842-d284-4312-b4b6-60ba9c815982',\n '425a6980-a883-4263-9d4a-95e278f49156',\n 'd076b9bc-f17f-4101-895d-5a143c1ec219',\n '57ecb82e-218e-4ec7-b92a-08be7637539a',\n '96d9e8ee-b0ef-4998-b0f5-767af945013c',\n 'cc2b1e7d-5884-4b3e-bf1b-4ff52d18baaa',\n 'b4e31fe2-8652-4bb9-97d8-4a8a8310bae6',\n 'ab207785-e9a5-426a-83d2-eee53beb93ef',\n 'ade5cebc-39a7-40d9-94ba-8a6992684c98',\n 'e98d2e17-ca7c-410e-a0b7-d60a7173f367',\n '9d885d18-ba5a-49fe-92d2-e050878c0cc7',\n '90e8297d-884f-4716-b6d6-c71d95c50605',\n '820ff4e7-58ee-4b54-b1ac-ff1e261a6852',\n '84d2b5b4-cfcc-44f6-ba47-f214f19ee820',\n '08369031-f453-4772-92ea-75d4317130e9',\n 'fc5840e6-493d-47b6-b703-d4629823eb40',\n '208e845d-bf9e-4db0-9a12-d0249ea749a2',\n 'de888918-c3b8-43dc-b446-a326b362b162',\n '3685f55e-edf2-4f71-8b8e-6f399d753381',\n '629c7eca-fcd8-47ac-99c9-d11f6d65a6e1',\n '9e8209e8-ee34-4d2d-af5b-bea7f2d127f2',\n 'd3c9b9f8-68b6-43e2-9d39-1829b1cea09a',\n '4e3c1c17-d727-4c0a-85ac-d30d7dc81795',\n 'e969c006-5d52-44be-9935-90036c3f15c8',\n 'd938301e-6dcc-449d-b56a-760646460be2',\n 'bf268bcb-b5bf-49ea-a4df-6b18ac7c6718',\n '74db4592-1440-465a-816d-b817a3381cba',\n '619417f4-4d5d-454c-b4f3-c41a0aa00f8b',\n '12ac3908-a603-465d-8570-3cabefabaaec',\n 'e238f692-ee9c-4e2d-a2e8-4077703650eb',\n '784a18ba-7ef7-48d3-8386-ce6df3855195',\n '68232049-661b-4428-9729-c593382c7bb0',\n 'ad9de633-8f0e-4e77-b11f-f72b4176b137',\n '99a6e142-9af7-48f5-8f3e-85cc929bfe76',\n 'f281da7e-826c-4a04-b233-9a5bfa2c5b62',\n '1977c23d-fb29-4cb5-9693-42366e933638',\n 'db80974b-2af5-4e6c-9c53-ce9701a168e2',\n 'a59c8da8-e443-4c0e-b75b-5891e76fd539',\n 'fcf2eace-6286-46cf-a844-eb555fc06b05',\n 'fbc03045-6735-4216-b222-01652609c499',\n '14d77553-62f5-455b-985d-e46cf123c9f5',\n 'b4c357e9-184a-4ae7-910b-70785f251374',\n '2bf0bf68-2d31-4678-8cc5-d513da456353',\n '938e80e1-4ae1-4253-9ee8-75b345d7b8ea',\n '3047ca93-f99b-4442-b307-d9eea3f85b8c',\n '3201dc2f-4788-42ea-9810-fee04c1e93a0',\n '110bfd43-e7f0-4cc4-86fd-bb3c9aecfe5b',\n 'a5600b8a-bdf3-4d96-9d63-b63d0738badc',\n '918f1dbd-7a35-44c0-99e8-b6400f1b0f44',\n '75cd685a-242a-4c13-b8b2-d41f9b079300',\n '808565eb-f05c-4caf-88ec-2b023f29d352',\n '9ea37ba6-1844-42fc-a2d8-801e80e9c735',\n '6b8845bf-8286-4cd5-9372-fc7cc578feaa',\n 'd9b2b2da-7311-48d3-8474-12f5b0b561f4',\n '43c0bdb7-7c5d-4402-9176-3332e52eb204',\n 'd820dea6-13d6-4606-8a23-6db43b4a2816',\n '520ed00f-0fe6-484c-b109-64afad86a11a',\n '6b112a91-b519-4cd6-b04b-1f9fcf9e53d0',\n '77a512d0-c256-4975-8c19-118edf685413',\n '0ee14cf5-7e9d-4c66-98b5-3808f4204939',\n 'b0bcc9a2-a27d-4cc3-9f90-03c12216b43d',\n '4b7d086f-52d2-4723-98df-948af42af457',\n '825e8058-6c2d-440c-bef9-816a361ee97e',\n '2f83f298-8674-41f9-9b2d-8985b4dc973d',\n '262bda0b-ed74-4142-9cc0-6909688b1f0c',\n '55aa1d90-e582-4f29-b8d4-6d6d8128fb29',\n '37861536-3d64-4022-a77c-653a9b929c2f',\n '6cc9f351-348d-4286-b836-832264c40aaa',\n '5c6c8425-7be1-428f-bf3e-d566879c6886',\n '857a67f9-c011-48be-ae21-3a5d441e7ba5',\n '4992b009-3b00-4e67-b8f6-6a393f5f51fe',\n '1d08b0d1-5ec7-478e-8de7-0f9bb9d5017a',\n '3c7fbcee-4cfc-44f9-b045-f52f1a6ac880',\n '2fe81d1c-7b90-47f1-8b4a-be05827dcf2c',\n '48aed762-ec2c-4bdf-b5d8-24967308ac55',\n 'b45d035e-9248-4e87-b474-2bef514334a6',\n 'a3a0fabb-bb65-4aad-861c-6b088e1f04e7',\n '1ed1f3fb-9c46-411c-b028-33fcef297d63',\n '13317de1-aa6d-4be5-ab96-79d815cd8886',\n '5beeeeea-cfa1-4746-90f3-376fcf1d3c93',\n 'c22778bb-a7fa-48d3-9c90-494a698407f4',\n 'e644a3d8-6cfa-4da2-87e1-b47b23f0153f',\n '86006498-b5e0-47ee-be55-7596296c4552',\n '6cbcba77-6a42-4616-8d21-e6ab440172e9',\n 'efa3a5b5-dac9-4f4f-b689-e943023b35cf',\n 'cdd9c2ea-ae33-495b-a23e-1816ce15758d',\n '1b49672e-65cb-49fb-a697-f02ac4efe5f7',\n 'e10a5e2d-cff8-4a7a-9005-95e3c400f339',\n '5ce1a947-038a-4459-aa1c-a00323e97345',\n '9a5e0c21-d1e4-4772-99d8-1a2b6b7675e6',\n 'dc01e8b6-5a55-4440-9b88-b4c9ff3769fb',\n 'a5ceb94d-2b04-4305-beef-04a296dac1f0',\n 'c1d17919-6ded-4535-bd1e-78df09b46821',\n '394d40e3-3be1-440d-9d5d-fca734a1ddd5',\n '02b44a52-b808-4b6d-bf44-6cf70179b002',\n '7fdb267a-90f8-4f6e-881d-0170373424c8',\n 'ed2e835f-ce33-47d9-a432-ee2a88275483',\n '291e4783-ed2d-416a-9b5e-8cc572a7b9f5',\n 'd5495776-bf68-41c0-8019-21e637f98364',\n 'd1429295-dbfd-4dcd-8b27-ef2a065bd2e6',\n '15652e7b-e0c6-401e-8df4-1b9738a9fa9c',\n '77d8aaf7-08b7-41e1-a4cb-1de2d0963d31',\n '69aa7a04-99ca-493e-9a19-156290b523b1',\n 'f8a9ac0b-148b-44cc-98d5-d0e875273a35',\n '2ce7a8e0-2bba-475c-83cf-26c4bea06b5f',\n '6770ce82-24f7-46e7-baff-7bc0b431b241',\n 'ea229136-328b-45bd-8108-3b341d2f1105',\n 'd8d00dd8-0d84-4d0a-918e-5ac69f9f3363',\n '2d126309-b5c2-491a-ba3b-6f1378db67f0',\n '2fb35fc6-61c4-4f8a-9f02-8e222c6f842f',\n '7b07f864-66fc-4d34-9f1f-adbdc5987ec8',\n '99f0a6d9-e38f-43f0-8c6c-1b4779abff9b',\n 'b335c1c6-4215-45a7-b100-5a9f95fd8400',\n '02ed2bbb-6eea-4783-bb03-7cdd3be7936d',\n '1f5bc839-2ffa-4e23-a624-c62235fd115f',\n '573bd63b-3aef-4d8e-b7e5-36250e345f7d',\n 'bd021bcc-adaf-4417-848b-bf05c5558986',\n 'a36fea0a-4dfb-4b78-9625-346a339b9cb7',\n '4d4afcf0-e726-4779-965c-7e0b34919733',\n 'd7e705a8-83b4-4b84-9efb-db1efbaa6519',\n 'b2b3b356-4874-4a87-9b60-34a23e4ce231',\n '5b412d11-e066-42e3-b069-d4a1dc2d4c0e',\n 'ee16624e-afe6-4567-9337-f52a093e9677',\n 'e6bd9b61-945c-414d-9b57-e091c4d230cf',\n '800bcf68-bc8a-4d8f-897d-c9a3591c7e5a',\n '77df6e8b-22bd-49ec-a297-29b5b35f77e9',\n 'd6725aac-1e8c-4b1e-b3b7-65f0984b4fad',\n '67b0a445-0951-4652-a61b-61458a338f34',\n 'a2262741-248d-4595-aeae-2310a9a44dd8',\n '18d1d483-33f1-4302-b4f0-558d09e98ee5',\n '058d8cf5-3bb0-48da-bf4a-8e9601b1a00c',\n '948f1264-f1ca-4947-8751-9c2e26c1f768',\n '763a58eb-000e-47e7-99d0-cf8e292d49c6',\n '9fe9726d-f1ab-45f1-94fc-f9ff732065e1',\n '96d9f89f-0154-4aa3-9f3b-53f1d8f908b3',\n '43a01053-9f30-4d14-acea-9a7b95e63b3c',\n '3d23dcc7-5505-4910-8d12-f03efe1de6f4',\n '738537ba-53ad-4d0c-8184-786d89d4836b',\n 'd57cfb6e-a655-493d-bd8a-83abed488c66',\n 'c8fd3bb4-0153-46b3-98d7-1b3aeb8aaf6e',\n '6abde9e8-472d-4398-b2a8-cbc2cc4e2456',\n 'a4fbc57c-95fe-4758-a2fd-bd220d2a5da9',\n '6138b3eb-a86f-4eb7-b0c3-e18a91e130af',\n 'ec0a287c-e9d0-4ef6-b66e-4786277fbecf',\n 'a50e027f-d867-44f1-8541-72b38aff9405',\n 'a74c56b0-ecd6-47de-a53f-95925ab2078c',\n '31a57fdc-70b7-44e0-ad00-4be94052673f',\n '756891e7-9c9c-4a07-be43-732ec6e25506',\n '3d6b0a24-dc49-4de2-bfbd-001afa328c6d',\n '498852f4-5b60-4766-8af4-e401dae3756a',\n 'b55a11a3-cf89-4cfe-8d4d-bc32f3a6158f',\n '7208cfd7-d3e9-47d7-a775-dc25309974f6',\n 'a8e07bf6-52cc-48e5-a46c-f1c4efad2418',\n 'f126dd71-093e-4d9c-835f-24e68bd16943',\n '832cc11f-2f4b-4c12-9820-d6e3cd07fc5c',\n '9c8a051b-2fdb-4849-bd74-cad202bca184',\n 'df5b5dee-c866-430d-a47f-79aa2210c136',\n 'de3ab9cf-24ca-412c-97c4-43e15f2688fd',\n 'd228b653-bd5d-4b3a-baef-1dc2b710445c',\n '18624f8d-f8ae-4973-89df-fd310726fff9',\n '023354d9-a5c7-4990-92f2-59607ffa1211',\n '90d25687-1f39-477f-a5a7-4b787fa090f7',\n 'cbdff3bd-a660-41ea-a70f-171bc04add55',\n '22dcad0e-f0b0-467a-bb80-d0cf6d731065',\n '5bd1b6a3-7eac-4d60-bd4c-2fb7e5da17fd',\n '3a7f4466-a7f9-4f25-b3fc-b665952795a1',\n 'a9ff4e11-5938-4959-b326-54e7f562c1a8',\n '8b60c441-52d0-4cb9-935e-329248bbd8ec',\n '521d888e-9a03-429b-8895-d2bd2bcf3116',\n 'c736f91c-cfe3-43f8-8f86-7fad10870dd6',\n '504e9f22-3fee-43f7-aca8-937c9ed40e5b',\n 'd35328ff-4731-468d-a12e-cecdc2d7e9d8',\n 'b5681bb3-b513-42c1-a46e-d1bacc433ec0',\n 'cf8ad8a9-7637-4541-87bf-20207862d9da',\n '5f6b5a71-a99a-49f1-8e61-30935cd14c14',\n '77f2c499-342c-4717-9c8d-67449b744906',\n '9f2d93de-0e52-4e3d-966d-7240f16de611',\n '2ffc4078-399a-4ac5-842a-c067dd80d990',\n '7863aab1-c4d1-4bec-8a60-fdc26535b035',\n 'a2ade025-b0ae-47d1-9c49-6d8288cd5850',\n '7a810230-861e-4d30-92ba-61bcdc99aa2e',\n '435d1f65-25b5-4188-80a7-eb3cd3429528',\n '6a57339d-474b-4b00-bce0-6ba1e80f658f',\n '82ab65f0-8a1f-452f-befa-dec073633fe1',\n 'a1bbae2c-a7e8-4437-9cfc-df212a56c4e6',\n '1c1b5211-506f-4aa1-bff6-133958a496b4',\n '40859270-d191-46cd-89b4-c6bd27c3a0cb',\n '59f37124-f4eb-4179-9fdf-e175b9946e46',\n '77dad595-4141-4b5f-b18c-901df0bde869',\n '07991f12-e038-47aa-84dc-158b34f4a1f2',\n 'ae276ec2-d3f0-4cf2-87f4-606978bbe05c',\n 'debdbdc0-7f2d-478e-b182-6501adad43e4',\n '855983ba-0a89-44f5-b1d2-d641c25c2e05',\n 'e0e864d5-d5c0-4f0f-87e5-bfb1e0c71b5a',\n '9e1adebb-aac1-46f6-9b79-22ba0848c5db',\n 'd1f1b574-b0d6-47e1-aa86-6b8d47a9d48b',\n '63f58161-da71-4aae-9ded-395b659be21b',\n '8ff1b252-0803-4095-aab2-23d498f3a45f',\n '91a5af38-bcb3-4385-8a1a-83cd2c3ef503',\n 'f98209e1-4a93-4ee5-a933-a0841be2bb9d',\n '6fd50817-c9c7-45f9-8654-622a1363163c',\n 'abcff987-d32d-4e7b-9ca6-486706f91367',\n 'cd0522a9-d86e-4958-b8bb-63c3efccc0fa',\n '08786bf0-14f0-4ac0-9dab-b97fdbc10c36',\n 'c92524a2-5075-461b-a8ae-bbe5a4e40f87',\n 'b660ad10-a093-4646-a02e-5e01cca19e18',\n 'd610209a-d26b-4671-8308-1ecfe2b76300',\n '7a2395fe-a3a2-4302-8337-120238a83ab8',\n 'a81ff09a-c279-4ff7-8dd3-f33e2b451fe3',\n '747dd576-1874-44cd-a39d-4b7f925c9fe1',\n '430cb945-cd33-4085-8234-a2fdab47dea3',\n '6399d148-5f63-4876-8ab1-93d74f917a7f',\n '375edf4f-0b3a-4be7-94ae-cc4f2480cf77',\n 'fb59341b-fd16-4e17-af03-fc593426835c',\n '1ed72abb-80de-4df2-9c09-cf5e096395a7',\n '186d2f93-ead1-44dd-9242-e66d286f7c1e',\n '9a633365-ad00-4b71-ad76-d6c1246e25d5',\n '55470c23-134e-4143-8862-f1ec7996869c',\n '973888f9-3d3e-4aec-ba1e-2bb0920195d4',\n 'a79bdc2c-1405-40b0-b11e-b8c230b467eb',\n '7fa296d7-79e6-438c-a0a4-cc65006035ce',\n '511c1685-af4a-4f87-8fcc-68b9ecb68164',\n '91f474fa-f64d-45fd-ba27-fccefb1625e8',\n 'b0f79deb-bf35-4254-962f-269cf962ff54',\n '1b07f2c8-b231-49be-afd8-187ba76e9b7a',\n '23a1c2b5-087b-4027-aadd-e3edf9552f55',\n 'c23b92f7-066b-4b6b-a39a-7bf4d2866515',\n 'c2bd798d-ea44-4862-930e-570c5bb6bb76',\n 'a749a53a-59c1-423f-9ded-426d839b0d45',\n 'e869396a-0223-4e83-8a32-e931ca93dc6f',\n '39962bdb-7ab8-4f17-837d-cae8194bc5d6',\n '2d1f1fbe-c686-4d6a-b73d-37dbb3c148c4',\n '7a27dd11-6b4c-4d4a-9b0b-4588a335c264',\n 'a6710073-7196-4670-946b-f49d91cba137',\n 'a561f568-61ab-4a28-855a-559a29bd45b7',\n 'b21e24c4-c312-47b3-83ad-5e476ac54a4e',\n 'a1b866c5-b934-450d-93b9-5bda587c5a21',\n '13dac2a4-3dea-44ee-a0ce-a1b878e30c25',\n '35ff4b19-ef8d-48d3-a851-d2bfe2fa40b9',\n 'dff8eee7-ad5e-425c-90fa-a2680841beb2',\n 'b92b11fb-0e7f-4892-81ba-23e6ca665399',\n 'ae010036-df19-4b12-b7d3-31065c90cc57',\n 'f4204c29-94c7-48c4-8dff-06328f4b0e48',\n 'f9edbaf5-3a62-4607-85f5-ac651af8b250',\n 'a49f1cdc-80f8-45e0-928d-3b8d909b7fea',\n '775ccb2f-1e09-44ec-bb31-bb7705a53e2e',\n '05ce066e-52da-4e6c-b60c-0124e0d235d9',\n '0d4c3c22-02d6-4aa3-8c6b-b0e9084ac90b',\n '90d1d25c-f32e-43d6-8e49-2ff40880857c',\n 'e6de1923-0b7d-4120-9477-305434fbde5d',\n '5d4374b5-03d6-40fb-98b4-5d91317840ee',\n '066d1c49-20ae-406e-ad53-92b4d843d839',\n '417cd5de-282b-43e3-8026-0d59d3cec9e5',\n '04a04329-c0dc-4912-96aa-03ea6c96c646',\n 'bb4a5e1d-5574-48c8-9875-5851217b857a',\n '7ff9b719-a70e-4446-957a-17cc913d8120',\n 'b654cb29-87a8-4ab2-9486-778b1271ffc0',\n '9c6a898d-f764-42b2-aa65-33192e82c8fb',\n '22859652-d86f-4376-a345-589d5d5c9115',\n '2f88fe13-a82e-456d-84b6-f35d52dc8117',\n 'b446216a-b50b-4302-a731-19d5ed491aa8',\n '19437eac-5fb4-484c-b804-b9fb1e0a599b',\n 'a5950d1b-2c9e-4adc-ac23-13455ecdb3ce',\n '3cc890c7-bf02-45b7-8d4d-68abdf6bb9ed',\n '60f32ded-5212-4edd-a520-4c8674ddbb84',\n '014a3ce0-cf0a-42fe-98a7-94ea489312f0',\n '201eb9cb-9699-47a5-b2e6-6bb454fbb5ee',\n 'fca6023f-de9f-41b9-9f4b-71d50444270d',\n 'd9285f29-0a85-498d-9a5c-db954fecfb2d',\n '99cbae20-765b-451c-8622-8000e726cbf5',\n 'd94611e7-cdae-4350-b8ca-8d19e404febe',\n 'e35e18f3-1a7b-4e62-b02a-fbc033f89467',\n 'a6ea63c7-3cd7-4e0a-9c19-8470fd73290d',\n '3c245638-aca1-4fe8-ad21-804e224ccf8c',\n '7419ac46-8012-4ad5-a295-615d8fdf6c12',\n '5fde5d03-2613-47c7-b4d6-94c8275169e1',\n 'cb68fe9b-5677-4822-b6b3-ce1f38bb93fa',\n '3ca3367f-7185-4b50-8716-c00a9a1f24cb',\n '5a34b030-75a1-4bab-8e91-c22b257c5cba',\n '2ef177c8-2ba8-436a-907b-9b666ef533a0',\n 'f0c37aba-e9da-4826-9a97-0e59b9613264',\n '8d80acce-9240-4c7e-adcc-5ad34fcc3050',\n 'ee397969-7d1e-4bb8-8ee8-31d155dcd802',\n 'a03720de-b9ca-4970-bebc-dbfbb5c6da96',\n 'c596aaa0-1cc1-42d7-b4f1-421e324a537c',\n '3cc44597-4c28-44cb-80c2-d3568e1e9ea2',\n 'c6b6b62a-45ee-4e36-9708-1e1f14fd0815',\n 'd553ba96-dd8d-41b4-ba6e-40aec444c2b3',\n '51689f98-ce78-4f91-8f15-d6402af8cdb9',\n 'ec8fc7ad-0aae-4e25-923b-06124172e298',\n 'ad638586-c4b1-43ea-a4f9-8a6fc0710670',\n 'eff6ffcc-8e74-4d47-b92f-fba6581a4cfb',\n '558ab525-7992-4422-bf67-7442c8848433',\n 'f27fbada-f2c0-46cb-a151-5bbfe974cfb2',\n '34b756de-b210-4ff7-ae7c-44b0cd73f3be',\n '358c7429-d72d-44cc-b143-cb865ef4b79b',\n '2fae9f67-4f6e-4952-8c24-eb619ab30c45',\n 'c9d3e8b1-5ec6-4f79-9f68-5fa10e38a552',\n '54706553-4787-4187-b85e-62d1093d2467',\n '0fdd2288-f4bd-48b6-806d-ed37f855e68b',\n '60e779de-448a-4027-85f8-37d614b5dd31',\n '920b4450-f8bb-4441-94d8-0972d8d72914',\n '70d73542-4fda-4a98-9950-7f2f2cf63258',\n '1b5680e6-4584-4431-9e3a-59b5129acdcd',\n '1fb47c6a-e93c-4cd5-82a0-5780a5276be9',\n '6f7b10f0-5bea-47d7-ac8e-2794022f6ab6',\n '6328a494-2a3c-4e77-8bb4-55c8f0e3bb09',\n '26e5baa8-0ded-499b-8f82-1a7071b92587',\n '57c95e03-f772-4032-8bca-3dfec49c77d8',\n 'f66462c3-5c58-418d-b27e-84012500da44',\n 'a9b703b2-c618-40e0-bd9e-b57ca4f8608a',\n 'cd99ac95-9036-4e51-8c46-c16cbe558f3a',\n '78857be6-334e-41de-aa51-df91d6a52a13',\n '997af67a-680d-4b72-a695-90e8a797f693',\n 'afc10b9d-bda7-4b04-b4db-2ef5ce986706',\n 'c1ea7eb8-1373-4cab-b870-f6146d0f6af4',\n '44ae8767-fffb-49c3-be71-0eba3784a97c',\n '699e26e8-23f4-4d7a-8176-615f0adfb44a',\n '3b6b6863-a354-45c5-87de-8041455e00ca',\n '334d2464-6683-47e2-91fb-ef82a152a092',\n '45b5ed80-6e29-4f1e-8c4c-de2d69e561b1',\n 'ff0de1a5-ba89-489a-a77e-4ae8b28bf3ef']"
     },
     "execution_count": 89,
     "metadata": {},
     "output_type": "execute_result"
    }
   ],
   "source": [
    "record_d['CLuc-53AGGCCCCU']"
   ],
   "metadata": {
    "collapsed": false
   }
  },
  {
   "cell_type": "code",
   "execution_count": 83,
   "outputs": [
    {
     "name": "stdout",
     "output_type": "stream",
     "text": [
      "UnaG-120A 0.17587939698492464\n",
      "EGFP-40A 0.7193864057127743\n",
      "CLuc-53AGGCCCCU 0.10473419730230098\n"
     ]
    }
   ],
   "source": [
    "# Calculate the proportion of the items in the dictionary and print it\n",
    "total = sum(count_d.values())\n",
    "for key in count_d:\n",
    "    print(key,count_d[key] / total)"
   ],
   "metadata": {
    "collapsed": false
   }
  },
  {
   "cell_type": "markdown",
   "source": [
    "# Visulize the CLuc-53AGGCCCCU of Sample 1"
   ],
   "metadata": {
    "collapsed": false
   }
  },
  {
   "cell_type": "code",
   "execution_count": 93,
   "outputs": [
    {
     "name": "stdout",
     "output_type": "stream",
     "text": [
      "======> UID of this run: 230930-163845-lbUDDf\n",
      "run_number : 0\n",
      "Directory /import/home2/yhchenmath/Log/NanoporeData/UNDEFINED/UNDEFINED/0 exists, please choose an option:\n",
      "Old files deleted.\n",
      "======> Directory for this run: /import/home2/yhchenmath/Log/NanoporeData/UNDEFINED/UNDEFINED/0\n",
      "2023-09-30 16:38:46,459 INFO Opts: Namespace(code_dir='./', data_dir='/import/home2/yhchenmath/Dataset/ONT', dataset={'name': 'basefast5', 'loc': '/import/home2/yhchenmath/Dataset/ONT/LifeScienceData/20230306_BECKI_1/no_sample/20230306_1656_MN41990_FAT91015_0b9a9d99/fast5_pass/', 'fast5_list': None, 'recursive': True, 'buffer_size': 1, 'window_size': 2000, 'window_overlap': 200, 'trim_signal': False}, exp_name='UNDEFINED', gpu='0', json_path='./configs/default.json', load_json=True, log_dir='/import/home2/yhchenmath/Log/NanoporeData', mode='train', option_for_existing_dir=None, run_name='UNDEFINED', run_number='0', seed=0, uid='230930-163845-lbUDDf')\n",
      "2023-09-30 16:38:46,459 INFO Opts: Namespace(code_dir='./', data_dir='/import/home2/yhchenmath/Dataset/ONT', dataset={'name': 'basefast5', 'loc': '/import/home2/yhchenmath/Dataset/ONT/LifeScienceData/20230306_BECKI_1/no_sample/20230306_1656_MN41990_FAT91015_0b9a9d99/fast5_pass/', 'fast5_list': None, 'recursive': True, 'buffer_size': 1, 'window_size': 2000, 'window_overlap': 200, 'trim_signal': False}, exp_name='UNDEFINED', gpu='0', json_path='./configs/default.json', load_json=True, log_dir='/import/home2/yhchenmath/Log/NanoporeData', mode='train', option_for_existing_dir=None, run_name='UNDEFINED', run_number='0', seed=0, uid='230930-163845-lbUDDf')\n",
      "2023-09-30 16:38:46,459 INFO Opts: Namespace(code_dir='./', data_dir='/import/home2/yhchenmath/Dataset/ONT', dataset={'name': 'basefast5', 'loc': '/import/home2/yhchenmath/Dataset/ONT/LifeScienceData/20230306_BECKI_1/no_sample/20230306_1656_MN41990_FAT91015_0b9a9d99/fast5_pass/', 'fast5_list': None, 'recursive': True, 'buffer_size': 1, 'window_size': 2000, 'window_overlap': 200, 'trim_signal': False}, exp_name='UNDEFINED', gpu='0', json_path='./configs/default.json', load_json=True, log_dir='/import/home2/yhchenmath/Log/NanoporeData', mode='train', option_for_existing_dir=None, run_name='UNDEFINED', run_number='0', seed=0, uid='230930-163845-lbUDDf')\n"
     ]
    }
   ],
   "source": [
    "import os\n",
    "\n",
    "os.chdir('/import/home2/yhchenmath/Code/NanoporeData/')\n",
    "\n",
    "from utils.experiman import ExperiMan\n",
    "from options import Options, HParams\n",
    "\n",
    "manager = ExperiMan(name='default')\n",
    "parser = manager.get_basic_arg_parser()\n",
    "opt = Options(parser).parse()  # get training options\n",
    "opt.dataset['loc'] = '/import/home2/yhchenmath/Dataset/ONT/LifeScienceData/20230306_BECKI_1/no_sample/20230306_1656_MN41990_FAT91015_0b9a9d99/fast5_pass/'\n",
    "manager.setup(opt)\n",
    "opt = HParams(**vars(opt))"
   ],
   "metadata": {
    "collapsed": false
   }
  },
  {
   "cell_type": "code",
   "execution_count": 94,
   "outputs": [
    {
     "name": "stdout",
     "output_type": "stream",
     "text": [
      "======> dataset [BaseFast5Dataset] was created\n",
      "======> length of dataset: 22\n"
     ]
    }
   ],
   "source": [
    "from data import find_dataset_using_name\n",
    "\n",
    "# Create dataset\n",
    "dataset = find_dataset_using_name(dataset_name=opt.dataset.name)(opt, manager)\n",
    "print(\"======> dataset [%s] was created\" % type(dataset).__name__)\n",
    "print(f\"======> length of dataset: {len(dataset)}\")"
   ],
   "metadata": {
    "collapsed": false
   }
  },
  {
   "cell_type": "code",
   "execution_count": 96,
   "outputs": [
    {
     "data": {
      "text/plain": "[['/import/home2/yhchenmath/Dataset/ONT/LifeScienceData/20230306_BECKI_1/no_sample/20230306_1656_MN41990_FAT91015_0b9a9d99/fast5_pass/FAT91015_pass_4ef9d469_17.fast5'],\n ['/import/home2/yhchenmath/Dataset/ONT/LifeScienceData/20230306_BECKI_1/no_sample/20230306_1656_MN41990_FAT91015_0b9a9d99/fast5_pass/FAT91015_pass_4ef9d469_7.fast5'],\n ['/import/home2/yhchenmath/Dataset/ONT/LifeScienceData/20230306_BECKI_1/no_sample/20230306_1656_MN41990_FAT91015_0b9a9d99/fast5_pass/FAT91015_pass_4ef9d469_0.fast5'],\n ['/import/home2/yhchenmath/Dataset/ONT/LifeScienceData/20230306_BECKI_1/no_sample/20230306_1656_MN41990_FAT91015_0b9a9d99/fast5_pass/FAT91015_pass_4ef9d469_19.fast5'],\n ['/import/home2/yhchenmath/Dataset/ONT/LifeScienceData/20230306_BECKI_1/no_sample/20230306_1656_MN41990_FAT91015_0b9a9d99/fast5_pass/FAT91015_pass_4ef9d469_1.fast5'],\n ['/import/home2/yhchenmath/Dataset/ONT/LifeScienceData/20230306_BECKI_1/no_sample/20230306_1656_MN41990_FAT91015_0b9a9d99/fast5_pass/FAT91015_pass_4ef9d469_16.fast5'],\n ['/import/home2/yhchenmath/Dataset/ONT/LifeScienceData/20230306_BECKI_1/no_sample/20230306_1656_MN41990_FAT91015_0b9a9d99/fast5_pass/FAT91015_pass_4ef9d469_3.fast5'],\n ['/import/home2/yhchenmath/Dataset/ONT/LifeScienceData/20230306_BECKI_1/no_sample/20230306_1656_MN41990_FAT91015_0b9a9d99/fast5_pass/FAT91015_pass_4ef9d469_9.fast5'],\n ['/import/home2/yhchenmath/Dataset/ONT/LifeScienceData/20230306_BECKI_1/no_sample/20230306_1656_MN41990_FAT91015_0b9a9d99/fast5_pass/FAT91015_pass_4ef9d469_14.fast5'],\n ['/import/home2/yhchenmath/Dataset/ONT/LifeScienceData/20230306_BECKI_1/no_sample/20230306_1656_MN41990_FAT91015_0b9a9d99/fast5_pass/FAT91015_pass_4ef9d469_15.fast5'],\n ['/import/home2/yhchenmath/Dataset/ONT/LifeScienceData/20230306_BECKI_1/no_sample/20230306_1656_MN41990_FAT91015_0b9a9d99/fast5_pass/FAT91015_pass_4ef9d469_10.fast5'],\n ['/import/home2/yhchenmath/Dataset/ONT/LifeScienceData/20230306_BECKI_1/no_sample/20230306_1656_MN41990_FAT91015_0b9a9d99/fast5_pass/FAT91015_pass_4ef9d469_13.fast5'],\n ['/import/home2/yhchenmath/Dataset/ONT/LifeScienceData/20230306_BECKI_1/no_sample/20230306_1656_MN41990_FAT91015_0b9a9d99/fast5_pass/FAT91015_pass_4ef9d469_4.fast5'],\n ['/import/home2/yhchenmath/Dataset/ONT/LifeScienceData/20230306_BECKI_1/no_sample/20230306_1656_MN41990_FAT91015_0b9a9d99/fast5_pass/FAT91015_pass_4ef9d469_2.fast5'],\n ['/import/home2/yhchenmath/Dataset/ONT/LifeScienceData/20230306_BECKI_1/no_sample/20230306_1656_MN41990_FAT91015_0b9a9d99/fast5_pass/FAT91015_pass_4ef9d469_6.fast5'],\n ['/import/home2/yhchenmath/Dataset/ONT/LifeScienceData/20230306_BECKI_1/no_sample/20230306_1656_MN41990_FAT91015_0b9a9d99/fast5_pass/FAT91015_pass_4ef9d469_21.fast5'],\n ['/import/home2/yhchenmath/Dataset/ONT/LifeScienceData/20230306_BECKI_1/no_sample/20230306_1656_MN41990_FAT91015_0b9a9d99/fast5_pass/FAT91015_pass_4ef9d469_20.fast5'],\n ['/import/home2/yhchenmath/Dataset/ONT/LifeScienceData/20230306_BECKI_1/no_sample/20230306_1656_MN41990_FAT91015_0b9a9d99/fast5_pass/FAT91015_pass_4ef9d469_5.fast5'],\n ['/import/home2/yhchenmath/Dataset/ONT/LifeScienceData/20230306_BECKI_1/no_sample/20230306_1656_MN41990_FAT91015_0b9a9d99/fast5_pass/FAT91015_pass_4ef9d469_11.fast5'],\n ['/import/home2/yhchenmath/Dataset/ONT/LifeScienceData/20230306_BECKI_1/no_sample/20230306_1656_MN41990_FAT91015_0b9a9d99/fast5_pass/FAT91015_pass_4ef9d469_18.fast5'],\n ['/import/home2/yhchenmath/Dataset/ONT/LifeScienceData/20230306_BECKI_1/no_sample/20230306_1656_MN41990_FAT91015_0b9a9d99/fast5_pass/FAT91015_pass_4ef9d469_12.fast5'],\n ['/import/home2/yhchenmath/Dataset/ONT/LifeScienceData/20230306_BECKI_1/no_sample/20230306_1656_MN41990_FAT91015_0b9a9d99/fast5_pass/FAT91015_pass_4ef9d469_8.fast5']]"
     },
     "execution_count": 96,
     "metadata": {},
     "output_type": "execute_result"
    }
   ],
   "source": [
    "# Find signal using read_id\n",
    "dataset.data_files"
   ],
   "metadata": {
    "collapsed": false
   }
  },
  {
   "cell_type": "code",
   "execution_count": 123,
   "outputs": [],
   "source": [
    "from utils.read import read_fast5\n",
    "import numpy as np\n",
    "import matplotlib.pyplot as plt\n",
    "\n",
    "def get_signal_from_id(read_id):\n",
    "    for i in dataset.data_files:\n",
    "        r = read_fast5(i[0], read_ids=[read_id])\n",
    "        if len(r) > 0:\n",
    "            return r\n",
    "\n",
    "k = record_d['CLuc-53AGGCCCCU'][9]\n",
    "visualize_reads = get_signal_from_id(k)"
   ],
   "metadata": {
    "collapsed": false
   }
  },
  {
   "cell_type": "code",
   "execution_count": 124,
   "outputs": [
    {
     "data": {
      "text/plain": "[<matplotlib.lines.Line2D at 0x7fddfd416d90>]"
     },
     "execution_count": 124,
     "metadata": {},
     "output_type": "execute_result"
    },
    {
     "data": {
      "text/plain": "<Figure size 1000x200 with 1 Axes>",
      "image/png": "[encoded data removed]"
     },
     "metadata": {},
     "output_type": "display_data"
    }
   ],
   "source": [
    "from utils.normalization import normalize_signal_wrapper\n",
    "\n",
    "# Visualize the signal\n",
    "fig, ax = plt.subplots(1, 1, figsize=(10, 2))\n",
    "sample = normalize_signal_wrapper(visualize_reads[k].raw, visualize_reads[k].offset, visualize_reads[k].range,\n",
    "                                     visualize_reads[k].digitisation,\n",
    "                                      method='noisiest', samples=100, threshold=6.0, factor=1.4826)\n",
    "ax.plot(np.arange(0, len(sample)),sample)"
   ],
   "metadata": {
    "collapsed": false
   }
  },
  {
   "cell_type": "code",
   "execution_count": null,
   "outputs": [],
   "source": [],
   "metadata": {
    "collapsed": false
   }
  }
 ],
 "metadata": {
  "kernelspec": {
   "display_name": "Python 3",
   "language": "python",
   "name": "python3"
  },
  "language_info": {
   "codemirror_mode": {
    "name": "ipython",
    "version": 2
   },
   "file_extension": ".py",
   "mimetype": "text/x-python",
   "name": "python",
   "nbconvert_exporter": "python",
   "pygments_lexer": "ipython2",
   "version": "2.7.6"
  }
 },
 "nbformat": 4,
 "nbformat_minor": 0
}
